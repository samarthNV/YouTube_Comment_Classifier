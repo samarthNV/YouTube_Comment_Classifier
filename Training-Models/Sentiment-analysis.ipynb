{
  "nbformat": 4,
  "nbformat_minor": 0,
  "metadata": {
    "colab": {
      "provenance": []
    },
    "kernelspec": {
      "name": "python3",
      "display_name": "Python 3"
    },
    "language_info": {
      "name": "python"
    }
  },
  "cells": [
    {
      "cell_type": "markdown",
      "source": [
        "# Sentiment Analysis using NLTK"
      ],
      "metadata": {
        "id": "D_1GrZV0-EQW"
      }
    },
    {
      "cell_type": "code",
      "execution_count": 16,
      "metadata": {
        "id": "tfn6SaTBp06J"
      },
      "outputs": [],
      "source": [
        "import pickle\n",
        "import nltk"
      ]
    },
    {
      "cell_type": "code",
      "source": [
        "from nltk.sentiment import SentimentIntensityAnalyzer"
      ],
      "metadata": {
        "id": "Ev4Q4MKZqfzX"
      },
      "execution_count": 11,
      "outputs": []
    },
    {
      "cell_type": "code",
      "source": [
        "sia = SentimentIntensityAnalyzer()"
      ],
      "metadata": {
        "id": "_2v6eHd8-UGA"
      },
      "execution_count": 12,
      "outputs": []
    },
    {
      "cell_type": "code",
      "source": [
        "sia.polarity_scores('I am so happy!')"
      ],
      "metadata": {
        "colab": {
          "base_uri": "https://localhost:8080/"
        },
        "id": "DXrBg_Jjqksf",
        "outputId": "79f90cec-6888-4837-92f1-0cd2aac9c7ba"
      },
      "execution_count": 13,
      "outputs": [
        {
          "output_type": "execute_result",
          "data": {
            "text/plain": [
              "{'neg': 0.0, 'neu': 0.318, 'pos': 0.682, 'compound': 0.6468}"
            ]
          },
          "metadata": {},
          "execution_count": 13
        }
      ]
    },
    {
      "cell_type": "code",
      "source": [
        "sia.polarity_scores('This is the worst thing ever.')"
      ],
      "metadata": {
        "colab": {
          "base_uri": "https://localhost:8080/"
        },
        "id": "DttVwEq5qm8p",
        "outputId": "54eadd94-3a16-42c3-ab94-9f74a4314deb"
      },
      "execution_count": 14,
      "outputs": [
        {
          "output_type": "execute_result",
          "data": {
            "text/plain": [
              "{'neg': 0.451, 'neu': 0.549, 'pos': 0.0, 'compound': -0.6249}"
            ]
          },
          "metadata": {},
          "execution_count": 14
        }
      ]
    },
    {
      "cell_type": "markdown",
      "source": [
        "# Storing the model in pickle file"
      ],
      "metadata": {
        "id": "48x83FRx-aq3"
      }
    },
    {
      "cell_type": "code",
      "source": [
        "with open('sentiment_analysis_model.pkl', 'wb') as model_file:\n",
        "    pickle.dump(sia, model_file)"
      ],
      "metadata": {
        "id": "HkXkBG029pjP"
      },
      "execution_count": 15,
      "outputs": []
    }
  ]
}